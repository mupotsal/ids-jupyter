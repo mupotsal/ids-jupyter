{
 "cells": [
  {
   "cell_type": "markdown",
   "metadata": {
    "collapsed": false,
    "deletable": true,
    "editable": true
   },
   "source": [
    "# Introduction to Data Science\n",
    "## Chapter 1 R Code\n"
   ]
  },
  {
   "cell_type": "code",
   "execution_count": null,
   "metadata": {
    "collapsed": true
   },
   "outputs": [],
   "source": [
    "# <- is used to assign whatever is on the right to the variable name on the left\n",
    "\n",
    "myText <- \"this is a piece of text\"\n",
    "print(myText)"
   ]
  },
  {
   "cell_type": "code",
   "execution_count": 6,
   "metadata": {
    "collapsed": false,
    "deletable": true,
    "editable": true
   },
   "outputs": [
    {
     "name": "stdout",
     "output_type": "stream",
     "text": [
      "[1] 43 42 12  8  5\n"
     ]
    }
   ],
   "source": [
    "# c() stands for concatenate. It is used to make vectors which are lists of data of the same type.\n",
    "\n",
    "myFamAges <- c(43, 42, 12, 8, 5)\n",
    "print(myFamAges)"
   ]
  }
 ],
 "metadata": {
  "kernelspec": {
   "display_name": "R",
   "language": "R",
   "name": "ir"
  },
  "language_info": {
   "codemirror_mode": "r",
   "file_extension": ".r",
   "mimetype": "text/x-r-source",
   "name": "R",
   "pygments_lexer": "r",
   "version": "3.3.3"
  }
 },
 "nbformat": 4,
 "nbformat_minor": 2
}
